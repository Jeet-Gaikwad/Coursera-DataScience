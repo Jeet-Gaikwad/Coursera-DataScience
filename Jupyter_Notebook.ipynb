{
 "cells": [
  {
   "cell_type": "markdown",
   "metadata": {},
   "source": [
    "<center>\n",
    "    <img src=\"https://cf-courses-data.s3.us.cloud-object-storage.appdomain.cloud/IBMDeveloperSkillsNetwork-DS0105EN-SkillsNetwork/labs/Module2/images/SN_web_lightmode.png\" width=\"300\" alt=\"cognitiveclass.ai logo\">\n",
    "</center>\n"
   ]
  },
  {
   "cell_type": "markdown",
   "metadata": {},
   "source": [
    "#### Add your code below following the instructions given in the course\n"
   ]
  },
  {
   "cell_type": "code",
   "execution_count": null,
   "metadata": {},
   "outputs": [],
   "source": [
    "# My First Jupyter Notebook"
   ]
  },
  {
   "cell_type": "markdown",
   "metadata": {},
   "source": [
    "# My First Jupyter Notebook"
   ]
  },
  {
   "cell_type": "code",
   "execution_count": null,
   "metadata": {},
   "outputs": [],
   "source": [
    "## Jeet Gaikwad\n",
    "<code>Data Scientist</code>"
   ]
  },
  {
   "cell_type": "markdown",
   "metadata": {},
   "source": [
    "## Jeet Gaikwad\n",
    "<code>Data Scientist</code>"
   ]
  },
  {
   "cell_type": "code",
   "execution_count": null,
   "metadata": {},
   "outputs": [],
   "source": [
    "<p> \n",
    "    I am interested in data Science because it enables me to work with the big data, how to analyze,\n",
    "    manage and visualize the data to help people and buisness to understand and grow.\n",
    "</p>"
   ]
  },
  {
   "cell_type": "markdown",
   "metadata": {},
   "source": [
    "<p> \n",
    "    I am interested in data Science because it enables me to work with the big data, how to analyze,manage and visualize the data to help people and buisness to understand and grow.\n",
    "</p>"
   ]
  },
  {
   "cell_type": "code",
   "execution_count": null,
   "metadata": {},
   "outputs": [],
   "source": [
    "### Data Science Languages\n",
    "1. Python\n",
    "2. R\n",
    "3. Java\n",
    "4. C++\n",
    "5. Julia\n",
    "6. Javascript"
   ]
  },
  {
   "cell_type": "markdown",
   "metadata": {},
   "source": [
    "### Data Science Languages\n",
    "1. Python\n",
    "2. R\n",
    "3. Java\n",
    "4. C++\n",
    "5. Julia\n",
    "6. Javascript"
   ]
  },
  {
   "cell_type": "code",
   "execution_count": null,
   "metadata": {},
   "outputs": [],
   "source": [
    "### Data Science Libraries\n",
    "1. Pandas\n",
    "2. Scipy\n",
    "3. Numpy\n",
    "4. Scikit-Learn\n",
    "5. TenserFlow\n",
    "6. Matplotlib\n",
    "7. Seaborn"
   ]
  },
  {
   "cell_type": "markdown",
   "metadata": {},
   "source": [
    "### Data Science Libraries\n",
    "1. Pandas\n",
    "2. Scipy\n",
    "3. Numpy\n",
    "4. Scikit-Learn\n",
    "5. TenserFlow\n",
    "6. Matplotlib\n",
    "7. Seaborn"
   ]
  },
  {
   "cell_type": "code",
   "execution_count": null,
   "metadata": {},
   "outputs": [],
   "source": [
    "### Data Science Tools\n",
    "| Name | Speciality |\n",
    "| ---- | ---------- |\n",
    "| Apache Spark | Data processing |\n",
    "| TenserFlow | Deep Neural Network |\n",
    "| Tableau | Data Visualization |\n",
    "| Julia | Numerical operations |\n",
    "| Keras | Deep Learning |\n"
   ]
  },
  {
   "cell_type": "markdown",
   "metadata": {},
   "source": [
    "### Data Science Tools\n",
    "| Name | Speciality |\n",
    "| ---- | ---------- |\n",
    "| Apache Spark | Data processing |\n",
    "| TenserFlow | Deep Neural Network |\n",
    "| Tableau | Data Visualization |\n",
    "| Julia | Numerical operations |\n",
    "| Keras | Deep Learning |\n"
   ]
  },
  {
   "cell_type": "code",
   "execution_count": null,
   "metadata": {},
   "outputs": [],
   "source": [
    "### Arithemtic Expression\n",
    "<p> An arithmetic expression is an expression in code that consists of a numeric value. An expression using <code>additions +, subtractions -, multiplications *, divisions /, and exponentials **</code></p>"
   ]
  },
  {
   "cell_type": "markdown",
   "metadata": {},
   "source": [
    "### Arithemtic Expression\n",
    "<p> An arithmetic expression is an expression in code that consists of a numeric value. An expression using <code>additions +, subtractions -, multiplications *, divisions /, and exponentials **</code></p>"
   ]
  },
  {
   "cell_type": "code",
   "execution_count": 1,
   "metadata": {},
   "outputs": [
    {
     "name": "stdout",
     "output_type": "stream",
     "text": [
      "30\n",
      "200\n"
     ]
    }
   ],
   "source": [
    "a = 10\n",
    "b = 20\n",
    "print(a+b)\n",
    "print(a*b)"
   ]
  },
  {
   "cell_type": "code",
   "execution_count": 10,
   "metadata": {},
   "outputs": [
    {
     "name": "stdout",
     "output_type": "stream",
     "text": [
      "Enter Minutes: 450\n",
      "Hour : Minute :-->  7 : 30\n"
     ]
    }
   ],
   "source": [
    "min = int(input(\"Enter Minutes: \"))\n",
    "print(\"Hour : Minute :--> \", int(min/60), \":\", min % 60)"
   ]
  },
  {
   "cell_type": "code",
   "execution_count": null,
   "metadata": {},
   "outputs": [],
   "source": [
    " ### Objectives Of Data Science\n",
    " * Data collection: Collecting and gathering data from various sources is the first and foremost objective of data science. \n",
    " * Data exploration and visualization: The objective of data exploration is to understand and analyze the data using various statistical and visualization techniques. \n",
    " * Data modeling: The objective of data modeling is to develop models that can be used to make predictions, classify data, or identify anomalies within the data. \n",
    " * Data evaluation and validation: The objective of data evaluation is to assess the accuracy and effectiveness of the models that have been developed. \n",
    " * Data communication: The objective of data communication is to present the insights and findings from the data analysis in a clear and concise manner. "
   ]
  },
  {
   "cell_type": "markdown",
   "metadata": {},
   "source": [
    " ### Objectives Of Data Science\n",
    " * Data collection: Collecting and gathering data from various sources is the first and foremost objective of data science. \n",
    " * Data exploration and visualization: The objective of data exploration is to understand and analyze the data using various statistical and visualization techniques. \n",
    " * Data modeling: The objective of data modeling is to develop models that can be used to make predictions, classify data, or identify anomalies within the data. \n",
    " * Data evaluation and validation: The objective of data evaluation is to assess the accuracy and effectiveness of the models that have been developed. \n",
    " * Data communication: The objective of data communication is to present the insights and findings from the data analysis in a clear and concise manner. "
   ]
  },
  {
   "cell_type": "code",
   "execution_count": null,
   "metadata": {},
   "outputs": [],
   "source": [
    "### Some Author's Name who contributed in the field of Data Science are:\n",
    "###  John Tukey, William Cleveland, and Leo Breiman, who developed statistical techniques and algorithms"
   ]
  },
  {
   "cell_type": "markdown",
   "metadata": {},
   "source": [
    "### Some Author's Name who contributed in the field of Data Science are:\n",
    "###  John Tukey, William Cleveland, and Leo Breiman, who developed statistical techniques and algorithms"
   ]
  },
  {
   "cell_type": "markdown",
   "metadata": {},
   "source": [
    "**Thank You**"
   ]
  },
  {
   "cell_type": "code",
   "execution_count": null,
   "metadata": {},
   "outputs": [],
   "source": []
  }
 ],
 "metadata": {
  "kernelspec": {
   "display_name": "Python 3 (ipykernel)",
   "language": "python",
   "name": "python3"
  },
  "language_info": {
   "codemirror_mode": {
    "name": "ipython",
    "version": 3
   },
   "file_extension": ".py",
   "mimetype": "text/x-python",
   "name": "python",
   "nbconvert_exporter": "python",
   "pygments_lexer": "ipython3",
   "version": "3.10.4"
  }
 },
 "nbformat": 4,
 "nbformat_minor": 4
}
