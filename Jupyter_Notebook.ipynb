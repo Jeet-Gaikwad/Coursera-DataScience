{
 "cells": [
  {
   "cell_type": "markdown",
   "metadata": {},
   "source": [
    "# My First Jupyter Notebook"
   ]
  },
  {
   "cell_type": "markdown",
   "metadata": {},
   "source": [
    "<strong>In this notebook, Data Science Tools and Ecosystem are summarized.</strong>"
   ]
  },
  {
   "cell_type": "markdown",
   "metadata": {},
   "source": [
    "### Data Science Languages\n",
    "1. Python\n",
    "2. R\n",
    "3. Java\n",
    "4. C++\n",
    "5. Julia\n",
    "6. Javascript\n",
    "7. SQL\n",
    "8. Scala\n",
    "9. PHP\n",
    "10. Go\n",
    "11. Ruby\n",
    "12. Visual Basic"
   ]
  },
  {
   "cell_type": "markdown",
   "metadata": {},
   "source": [
    "### Data Science Libraries\n",
    "1. Pandas\n",
    "2. Scipy\n",
    "3. Numpy\n",
    "4. Scikit-Learn\n",
    "5. TenserFlow\n",
    "6. Matplotlib\n",
    "7. Seaborn\n",
    "8. Keras\n",
    "9. PyTorch\n",
    "10. Apache Spark\n",
    "11. Vegas\n",
    "12. Big DL\n",
    "13. Ggplot2"
   ]
  },
  {
   "cell_type": "markdown",
   "metadata": {},
   "source": [
    "### Data Science Tools\n",
    "| Data Science Tools | \n",
    "| ---- |\n",
    "| Anaconda |\n",
    "| Jupyter Notebook |\n",
    "| R Studio |\n",
    "| Spyder |\n",
    "| Zeppelin |\n"
   ]
  },
  {
   "cell_type": "markdown",
   "metadata": {},
   "source": [
    "### Arithemtic Expression\n",
    "<p> An arithmetic expression is an expression in code that consists of a numeric value. An expression using <code>additions +, subtractions -, multiplications *, divisions /, and exponentials **</code></p>"
   ]
  },
  {
   "cell_type": "code",
   "execution_count": 2,
   "metadata": {},
   "outputs": [
    {
     "data": {
      "text/plain": [
       "17"
      ]
     },
     "execution_count": 2,
     "metadata": {},
     "output_type": "execute_result"
    }
   ],
   "source": [
    "# Arithmetic Operation performed belove are addition and multiplication\n",
    "(3*4)+5"
   ]
  },
  {
   "cell_type": "code",
   "execution_count": 3,
   "metadata": {},
   "outputs": [
    {
     "name": "stdout",
     "output_type": "stream",
     "text": [
      "Enter Minutes: 200\n",
      "Hour : Minute  -->  3 : 20\n"
     ]
    }
   ],
   "source": [
    "# This will convert minutes into Hours\n",
    "min = int(input(\"Enter Minutes: \"))\n",
    "print(\"Hour : Minute  --> \", int(min/60), \":\", min % 60)"
   ]
  },
  {
   "cell_type": "markdown",
   "metadata": {},
   "source": [
    " ### Objectives Of Data Science\n",
    "    * Add comments to code cells\n",
    "    * Create markdown cells\n",
    "    * Add ordered and unordered lists to markdown cells\n",
    "    * Format content of markdown cells with heading styles"
   ]
  },
  {
   "cell_type": "markdown",
   "metadata": {},
   "source": [
    "## Author\n",
    "<p>Jeet</p>"
   ]
  },
  {
   "cell_type": "code",
   "execution_count": null,
   "metadata": {},
   "outputs": [],
   "source": []
  }
 ],
 "metadata": {
  "kernelspec": {
   "display_name": "Python 3 (ipykernel)",
   "language": "python",
   "name": "python3"
  },
  "language_info": {
   "codemirror_mode": {
    "name": "ipython",
    "version": 3
   },
   "file_extension": ".py",
   "mimetype": "text/x-python",
   "name": "python",
   "nbconvert_exporter": "python",
   "pygments_lexer": "ipython3",
   "version": "3.10.4"
  }
 },
 "nbformat": 4,
 "nbformat_minor": 4
}
